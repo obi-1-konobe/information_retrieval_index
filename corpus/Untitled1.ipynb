{
 "cells": [
  {
   "cell_type": "code",
   "execution_count": 24,
   "metadata": {},
   "outputs": [],
   "source": [
    "import numpy as np\n",
    "import pandas as pd\n",
    "import torch\n",
    "import transformers as ppb # pytorch transformers\n",
    "import os\n",
    "from sklearn.metrics.pairwise import cosine_similarity\n"
   ]
  },
  {
   "cell_type": "code",
   "execution_count": 10,
   "metadata": {},
   "outputs": [],
   "source": [
    "data = list()\n",
    "listdir = os.listdir('texts/')"
   ]
  },
  {
   "cell_type": "code",
   "execution_count": 11,
   "metadata": {},
   "outputs": [],
   "source": [
    "i = 0\n",
    "for file_name in listdir:\n",
    "    text_path = f'texts/{file_name}'\n",
    "    with open(text_path, 'r') as f:\n",
    "        text = f.read()\n",
    "    data.append([file_name, text])\n",
    "    if i>11:\n",
    "        break\n",
    "    i+=1"
   ]
  },
  {
   "cell_type": "code",
   "execution_count": 12,
   "metadata": {},
   "outputs": [],
   "source": [
    "df = pd.DataFrame(data, columns=['file', 'text'])"
   ]
  },
  {
   "cell_type": "code",
   "execution_count": 13,
   "metadata": {},
   "outputs": [
    {
     "data": {
      "text/html": [
       "<div>\n",
       "<style scoped>\n",
       "    .dataframe tbody tr th:only-of-type {\n",
       "        vertical-align: middle;\n",
       "    }\n",
       "\n",
       "    .dataframe tbody tr th {\n",
       "        vertical-align: top;\n",
       "    }\n",
       "\n",
       "    .dataframe thead th {\n",
       "        text-align: right;\n",
       "    }\n",
       "</style>\n",
       "<table border=\"1\" class=\"dataframe\">\n",
       "  <thead>\n",
       "    <tr style=\"text-align: right;\">\n",
       "      <th></th>\n",
       "      <th>file</th>\n",
       "      <th>text</th>\n",
       "    </tr>\n",
       "  </thead>\n",
       "  <tbody>\n",
       "    <tr>\n",
       "      <th>0</th>\n",
       "      <td>170351.txt</td>\n",
       "      <td>Santa Claus Obesity: Santa Is Getting Fatter, ...</td>\n",
       "    </tr>\n",
       "    <tr>\n",
       "      <th>1</th>\n",
       "      <td>10457.txt</td>\n",
       "      <td>Dalai Lama Meets 'Old Trusted Friend' Barack O...</td>\n",
       "    </tr>\n",
       "    <tr>\n",
       "      <th>2</th>\n",
       "      <td>137111.txt</td>\n",
       "      <td>Google Glass: Qué Guay!\\nRewind 24 hours as I ...</td>\n",
       "    </tr>\n",
       "    <tr>\n",
       "      <th>3</th>\n",
       "      <td>120597.txt</td>\n",
       "      <td>Teen Impregnation Is the Real Problem, Not Tee...</td>\n",
       "    </tr>\n",
       "    <tr>\n",
       "      <th>4</th>\n",
       "      <td>21665.txt</td>\n",
       "      <td>Donald Trump's Lawyer Claims President Was Nev...</td>\n",
       "    </tr>\n",
       "    <tr>\n",
       "      <th>5</th>\n",
       "      <td>185480.txt</td>\n",
       "      <td>Weekly Roundup of eBay Vintage Clothing Finds ...</td>\n",
       "    </tr>\n",
       "    <tr>\n",
       "      <th>6</th>\n",
       "      <td>70265.txt</td>\n",
       "      <td>New Photos Of Possible 'Gilmore Girls' Set Sur...</td>\n",
       "    </tr>\n",
       "    <tr>\n",
       "      <th>7</th>\n",
       "      <td>146488.txt</td>\n",
       "      <td>The Sounds of Saturn and Other Space Oddities\\...</td>\n",
       "    </tr>\n",
       "    <tr>\n",
       "      <th>8</th>\n",
       "      <td>102344.txt</td>\n",
       "      <td>A Diet For Food Lovers\\n</td>\n",
       "    </tr>\n",
       "    <tr>\n",
       "      <th>9</th>\n",
       "      <td>156028.txt</td>\n",
       "      <td>While Everyone Is Looking\\nEvery generation ha...</td>\n",
       "    </tr>\n",
       "    <tr>\n",
       "      <th>10</th>\n",
       "      <td>31606.txt</td>\n",
       "      <td>Almost No One Likes The New GOP Health Care Bi...</td>\n",
       "    </tr>\n",
       "    <tr>\n",
       "      <th>11</th>\n",
       "      <td>33978.txt</td>\n",
       "      <td>Donald Trump Goes Meatballs With 'Last Night I...</td>\n",
       "    </tr>\n",
       "    <tr>\n",
       "      <th>12</th>\n",
       "      <td>88892.txt</td>\n",
       "      <td>Susan Lizotte: Blood &amp; Treasure\\nIn her latest...</td>\n",
       "    </tr>\n",
       "  </tbody>\n",
       "</table>\n",
       "</div>"
      ],
      "text/plain": [
       "          file                                               text\n",
       "0   170351.txt  Santa Claus Obesity: Santa Is Getting Fatter, ...\n",
       "1    10457.txt  Dalai Lama Meets 'Old Trusted Friend' Barack O...\n",
       "2   137111.txt  Google Glass: Qué Guay!\\nRewind 24 hours as I ...\n",
       "3   120597.txt  Teen Impregnation Is the Real Problem, Not Tee...\n",
       "4    21665.txt  Donald Trump's Lawyer Claims President Was Nev...\n",
       "5   185480.txt  Weekly Roundup of eBay Vintage Clothing Finds ...\n",
       "6    70265.txt  New Photos Of Possible 'Gilmore Girls' Set Sur...\n",
       "7   146488.txt  The Sounds of Saturn and Other Space Oddities\\...\n",
       "8   102344.txt                           A Diet For Food Lovers\\n\n",
       "9   156028.txt  While Everyone Is Looking\\nEvery generation ha...\n",
       "10   31606.txt  Almost No One Likes The New GOP Health Care Bi...\n",
       "11   33978.txt  Donald Trump Goes Meatballs With 'Last Night I...\n",
       "12   88892.txt  Susan Lizotte: Blood & Treasure\\nIn her latest..."
      ]
     },
     "execution_count": 13,
     "metadata": {},
     "output_type": "execute_result"
    }
   ],
   "source": [
    "df"
   ]
  },
  {
   "cell_type": "code",
   "execution_count": 14,
   "metadata": {},
   "outputs": [
    {
     "data": {
      "text/html": [
       "<div>\n",
       "<style scoped>\n",
       "    .dataframe tbody tr th:only-of-type {\n",
       "        vertical-align: middle;\n",
       "    }\n",
       "\n",
       "    .dataframe tbody tr th {\n",
       "        vertical-align: top;\n",
       "    }\n",
       "\n",
       "    .dataframe thead th {\n",
       "        text-align: right;\n",
       "    }\n",
       "</style>\n",
       "<table border=\"1\" class=\"dataframe\">\n",
       "  <thead>\n",
       "    <tr style=\"text-align: right;\">\n",
       "      <th></th>\n",
       "      <th>file</th>\n",
       "      <th>text</th>\n",
       "    </tr>\n",
       "  </thead>\n",
       "  <tbody>\n",
       "    <tr>\n",
       "      <th>0</th>\n",
       "      <td>170351.txt</td>\n",
       "      <td>Santa Claus Obesity: Santa Is Getting Fatter, ...</td>\n",
       "    </tr>\n",
       "    <tr>\n",
       "      <th>1</th>\n",
       "      <td>10457.txt</td>\n",
       "      <td>Dalai Lama Meets 'Old Trusted Friend' Barack O...</td>\n",
       "    </tr>\n",
       "    <tr>\n",
       "      <th>2</th>\n",
       "      <td>137111.txt</td>\n",
       "      <td>Google Glass: Qué Guay!\\nRewind 24 hours as I ...</td>\n",
       "    </tr>\n",
       "    <tr>\n",
       "      <th>3</th>\n",
       "      <td>120597.txt</td>\n",
       "      <td>Teen Impregnation Is the Real Problem, Not Tee...</td>\n",
       "    </tr>\n",
       "    <tr>\n",
       "      <th>4</th>\n",
       "      <td>21665.txt</td>\n",
       "      <td>Donald Trump's Lawyer Claims President Was Nev...</td>\n",
       "    </tr>\n",
       "    <tr>\n",
       "      <th>5</th>\n",
       "      <td>185480.txt</td>\n",
       "      <td>Weekly Roundup of eBay Vintage Clothing Finds ...</td>\n",
       "    </tr>\n",
       "    <tr>\n",
       "      <th>6</th>\n",
       "      <td>70265.txt</td>\n",
       "      <td>New Photos Of Possible 'Gilmore Girls' Set Sur...</td>\n",
       "    </tr>\n",
       "    <tr>\n",
       "      <th>7</th>\n",
       "      <td>146488.txt</td>\n",
       "      <td>The Sounds of Saturn and Other Space Oddities\\...</td>\n",
       "    </tr>\n",
       "    <tr>\n",
       "      <th>8</th>\n",
       "      <td>102344.txt</td>\n",
       "      <td>A Diet For Food Lovers\\n</td>\n",
       "    </tr>\n",
       "    <tr>\n",
       "      <th>9</th>\n",
       "      <td>156028.txt</td>\n",
       "      <td>While Everyone Is Looking\\nEvery generation ha...</td>\n",
       "    </tr>\n",
       "  </tbody>\n",
       "</table>\n",
       "</div>"
      ],
      "text/plain": [
       "         file                                               text\n",
       "0  170351.txt  Santa Claus Obesity: Santa Is Getting Fatter, ...\n",
       "1   10457.txt  Dalai Lama Meets 'Old Trusted Friend' Barack O...\n",
       "2  137111.txt  Google Glass: Qué Guay!\\nRewind 24 hours as I ...\n",
       "3  120597.txt  Teen Impregnation Is the Real Problem, Not Tee...\n",
       "4   21665.txt  Donald Trump's Lawyer Claims President Was Nev...\n",
       "5  185480.txt  Weekly Roundup of eBay Vintage Clothing Finds ...\n",
       "6   70265.txt  New Photos Of Possible 'Gilmore Girls' Set Sur...\n",
       "7  146488.txt  The Sounds of Saturn and Other Space Oddities\\...\n",
       "8  102344.txt                           A Diet For Food Lovers\\n\n",
       "9  156028.txt  While Everyone Is Looking\\nEvery generation ha..."
      ]
     },
     "execution_count": 14,
     "metadata": {},
     "output_type": "execute_result"
    }
   ],
   "source": [
    "df = df.head(10)\n",
    "df"
   ]
  },
  {
   "cell_type": "code",
   "execution_count": 15,
   "metadata": {},
   "outputs": [],
   "source": [
    "# df.to_csv('text_df.csv')"
   ]
  },
  {
   "cell_type": "code",
   "execution_count": 16,
   "metadata": {},
   "outputs": [],
   "source": [
    "model_class, tokenizer_class, pretrained_weights = (ppb.DistilBertModel, ppb.DistilBertTokenizer, 'distilbert-base-uncased')\n",
    "tokenizer = tokenizer_class.from_pretrained(pretrained_weights)\n",
    "model = model_class.from_pretrained(pretrained_weights)"
   ]
  },
  {
   "cell_type": "code",
   "execution_count": 17,
   "metadata": {},
   "outputs": [],
   "source": [
    "tokenized = df['text'].apply((lambda x: tokenizer.encode(x, add_special_tokens=True)))"
   ]
  },
  {
   "cell_type": "code",
   "execution_count": 18,
   "metadata": {},
   "outputs": [
    {
     "data": {
      "text/plain": [
       "(10,)"
      ]
     },
     "execution_count": 18,
     "metadata": {},
     "output_type": "execute_result"
    }
   ],
   "source": [
    "tokenized.shape"
   ]
  },
  {
   "cell_type": "code",
   "execution_count": 19,
   "metadata": {},
   "outputs": [],
   "source": [
    "max_len = 0\n",
    "for i in tokenized.values:\n",
    "    if len(i) > max_len:\n",
    "        max_len = len(i)\n",
    "\n",
    "padded = np.array([i + [0]*(max_len-len(i)) for i in tokenized.values])"
   ]
  },
  {
   "cell_type": "code",
   "execution_count": 20,
   "metadata": {},
   "outputs": [
    {
     "data": {
      "text/plain": [
       "(10, 70)"
      ]
     },
     "execution_count": 20,
     "metadata": {},
     "output_type": "execute_result"
    }
   ],
   "source": [
    "padded.shape"
   ]
  },
  {
   "cell_type": "code",
   "execution_count": 21,
   "metadata": {},
   "outputs": [],
   "source": [
    "input_ids = torch.tensor(np.array(padded))"
   ]
  },
  {
   "cell_type": "code",
   "execution_count": 22,
   "metadata": {},
   "outputs": [],
   "source": [
    "with torch.no_grad():\n",
    "    last_hidden_states = model(input_ids)"
   ]
  },
  {
   "cell_type": "code",
   "execution_count": 23,
   "metadata": {},
   "outputs": [
    {
     "data": {
      "text/plain": [
       "(10, 768)"
      ]
     },
     "execution_count": 23,
     "metadata": {},
     "output_type": "execute_result"
    }
   ],
   "source": [
    "features = last_hidden_states[0][:,0,:].numpy()\n",
    "features.shape"
   ]
  },
  {
   "cell_type": "code",
   "execution_count": 39,
   "metadata": {},
   "outputs": [
    {
     "data": {
      "text/plain": [
       "array([0.8729771 , 0.9065465 , 0.8159222 , 0.91213655, 0.92439944,\n",
       "       0.92070615, 0.94265056, 0.8820535 , 0.8727509 ], dtype=float32)"
      ]
     },
     "execution_count": 39,
     "metadata": {},
     "output_type": "execute_result"
    }
   ],
   "source": [
    "arr = cosine_similarity([features[0]], features[1:])[0]\n",
    "arr"
   ]
  },
  {
   "cell_type": "code",
   "execution_count": 42,
   "metadata": {},
   "outputs": [],
   "source": [
    "res  = arr.argsort()[-10:][::-1]"
   ]
  },
  {
   "cell_type": "code",
   "execution_count": 44,
   "metadata": {},
   "outputs": [
    {
     "data": {
      "text/plain": [
       "['70265.txt',\n",
       " '21665.txt',\n",
       " '185480.txt',\n",
       " '120597.txt',\n",
       " '10457.txt',\n",
       " '146488.txt',\n",
       " '170351.txt',\n",
       " '102344.txt',\n",
       " '137111.txt']"
      ]
     },
     "execution_count": 44,
     "metadata": {},
     "output_type": "execute_result"
    }
   ],
   "source": [
    "[df.file[i] for i in res]"
   ]
  },
  {
   "cell_type": "code",
   "execution_count": null,
   "metadata": {},
   "outputs": [],
   "source": []
  }
 ],
 "metadata": {
  "kernelspec": {
   "display_name": "mir",
   "language": "python",
   "name": "mir"
  },
  "language_info": {
   "codemirror_mode": {
    "name": "ipython",
    "version": 3
   },
   "file_extension": ".py",
   "mimetype": "text/x-python",
   "name": "python",
   "nbconvert_exporter": "python",
   "pygments_lexer": "ipython3",
   "version": "3.6.9"
  }
 },
 "nbformat": 4,
 "nbformat_minor": 2
}
